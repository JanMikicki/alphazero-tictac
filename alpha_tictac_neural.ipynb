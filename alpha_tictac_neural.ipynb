{
  "nbformat": 4,
  "nbformat_minor": 0,
  "metadata": {
    "colab": {
      "name": "alpha_tictac.ipynb",
      "provenance": [],
      "collapsed_sections": [],
      "authorship_tag": "ABX9TyPR4Ti/Ais7rOdA9fXomEE7",
      "include_colab_link": true
    },
    "kernelspec": {
      "name": "python3",
      "display_name": "Python 3"
    },
    "accelerator": "GPU"
  },
  "cells": [
    {
      "cell_type": "markdown",
      "metadata": {
        "id": "view-in-github",
        "colab_type": "text"
      },
      "source": [
        "<a href=\"https://colab.research.google.com/github/JanMikicki/various-rl-things/blob/main/alpha_tictac_neural.ipynb\" target=\"_parent\"><img src=\"https://colab.research.google.com/assets/colab-badge.svg\" alt=\"Open In Colab\"/></a>"
      ]
    },
    {
      "cell_type": "code",
      "metadata": {
        "id": "9P1QL8NEtPOh"
      },
      "source": [
        "import torch\n",
        "import torch.nn as nn\n",
        "import torch.nn.functional as F\n",
        "import numpy as np\n",
        "import time\n",
        "import matplotlib.pyplot as plt\n",
        "import random\n",
        "from decimal import Decimal\n",
        "from copy import deepcopy\n",
        "from math import sqrt, log"
      ],
      "execution_count": null,
      "outputs": []
    },
    {
      "cell_type": "code",
      "metadata": {
        "id": "zZNDY0nPtaWq"
      },
      "source": [
        "class OXOState:\n",
        "    \"\"\" State of the game which carries board and turn information\n",
        "    throughout the episode.\n",
        "    \"\"\"\n",
        "    def __init__(self, net):\n",
        "        \"\"\" Decide who goes first at the beginning of a game\n",
        "            (doesn't really matter) and init the board\n",
        "        \"\"\"\n",
        "        self.playerJustMoved = np.random.choice([1, 2])\n",
        "        self.board = np.zeros((3, 3), dtype=np.uint8)\n",
        "        self.net = net\n",
        "        \n",
        "    def DoMove(self, move):\n",
        "        \"\"\" Update a state by carrying out the given move.\n",
        "            Must update playerToMove.\n",
        "        \"\"\"\n",
        "        self.playerJustMoved = 3 - self.playerJustMoved\n",
        "        self.board[move] = self.playerJustMoved\n",
        "    \n",
        "    def GetMoves(self):\n",
        "        \"\"\" Get all possible moves from this state.\n",
        "        \"\"\"\n",
        "        free_fields = np.where(self.board < 1)\n",
        "        free_fields = list(zip(*free_fields))\n",
        "        #import IPython; IPython.embed(); exit()\n",
        "        return free_fields\n",
        "    \n",
        "    def GetValue(self, lastplayer):\n",
        "        \"\"\" Get value (from 1's perspective) of the board given that lastplayer moved. \n",
        "        \"\"\"\n",
        "        netboard = construct_netboard(self.board, lastplayer)\n",
        "        netboard = torch.from_numpy(netboard).to(self.net.device)\n",
        "        V, _ = self.net.forward(netboard)\n",
        "        return V\n",
        "        \n",
        "    def GetPolicy(self):\n",
        "        \"\"\" Get the policy distribution for current board and playerjm. \n",
        "        \"\"\"\n",
        "        netboard = construct_netboard(self.board, self.playerJustMoved)\n",
        "        netboard = torch.from_numpy(netboard).to(self.net.device)\n",
        "        _, P = self.net.forward(netboard)\n",
        "        P = F.softmax(P.squeeze(0), dim=0)\n",
        "        return P\n",
        "\n",
        "    def GetResult(self):\n",
        "        \"\"\" Get the game result. Return vals:\n",
        "            1.0 - someone won\n",
        "            0.0 - draw\n",
        "            10  - still ongoing \n",
        "        \"\"\"\n",
        "        for rowcol in range(3):\n",
        "            if (self.board[rowcol] == 1).all() \\\n",
        "            or (self.board[:, rowcol] == 1).all():               \n",
        "                return 1.0\n",
        "\n",
        "            if (self.board[rowcol] == 2).all() \\\n",
        "            or (self.board[:, rowcol] == 2).all():               \n",
        "                return 1.0\n",
        "\n",
        "        if self.board[0, 0] == self.board[1, 1] == self.board[2, 2]:\n",
        "            if self.board[1, 1] != 0:\n",
        "                return 1.0\n",
        "        \n",
        "        if self.board[0, 2] == self.board[1, 1] == self.board[2, 0]:\n",
        "            if self.board[1, 1] != 0:\n",
        "                return 1.0\n",
        "\n",
        "        if len(self.GetMoves()) == 0:\n",
        "            return 0.0 # draw\n",
        "\n",
        "        return 10"
      ],
      "execution_count": null,
      "outputs": []
    },
    {
      "cell_type": "code",
      "metadata": {
        "id": "7wSwNBBP0sV1"
      },
      "source": [
        "class Node:\n",
        "    \"\"\" A node in the game tree. Note wins is always from the viewpoint of playerJustMoved.\n",
        "        Crashes if state not specified.\n",
        "    \"\"\"\n",
        "    def __init__(self, move = None, parent = None, state = None):\n",
        "        self.move = move # the move that got us to this node - \"None\" for the root node\n",
        "        self.parentNode = parent # \"None\" for the root node\n",
        "        self.childNodes = []\n",
        "        self.wins = 0\n",
        "        self.visits = 0\n",
        "        self.Q = 0\n",
        "        self.untriedMoves = state.GetMoves() # future child nodes\n",
        "        self.policy = state.GetPolicy()\n",
        "        self.playerJustMoved = state.playerJustMoved\n",
        "        \n",
        "    def PUCTSelectChild(self):\n",
        "        \"\"\" Use the PUCT formula to select a child node.\n",
        "            In short, during a tree search we pick actions according to:\n",
        "            a = argmax(Q + U)\n",
        "            ,where U ~ (P / 1 + N) and Q = wins/visits\n",
        "            c_puct was chosen based on some paper where they tested different values empirically\n",
        "            the smaller the tau the less exploration\n",
        "        \"\"\"\n",
        "        # s = sorted(self.childNodes, key = lambda c: c.wins/c.visits + sqrt(2*log(self.visits)/c.visits))[-1]\n",
        "        moves = [(0, 0), (0, 1), (0, 2), (1, 0), (1, 1), (1, 2), (2, 0), (2, 1), (2, 2)]\n",
        "        c_puct = 3 # was 3-4 in paper\n",
        "        tau = 0.1\n",
        "\n",
        "        # Decimal conversion is here because it was getting overflows with high visits and small tau\n",
        "        s = sorted(self.childNodes, key = lambda c: c.Q + \\\n",
        "            c_puct * self.policy[moves.index(c.move)] * \\\n",
        "                float( (Decimal(np.sqrt(Decimal(self.visits))) ** Decimal(1/tau)) / (Decimal(c.visits) ** Decimal(1/tau)) ))[-1]\n",
        "\n",
        "        return s\n",
        "    \n",
        "    def AddChild(self, m, s):\n",
        "        \"\"\" Remove m from untriedMoves and add a new child node for this move.\n",
        "            Return the added child node\n",
        "        \"\"\"\n",
        "        n = Node(move = m, parent = self, state = s)\n",
        "        self.untriedMoves.remove(m)\n",
        "        self.childNodes.append(n)\n",
        "        return n\n",
        "    \n",
        "    def Update(self, result):\n",
        "        \"\"\" Update this node - one additional visit and result additional wins. result must be from the viewpoint of playerJustmoved.\n",
        "        \"\"\"\n",
        "        self.visits += 1\n",
        "        self.wins += result\n",
        "        self.Q = self.wins / self.visits"
      ],
      "execution_count": null,
      "outputs": []
    },
    {
      "cell_type": "code",
      "metadata": {
        "id": "w9f0ZAtR0y4f"
      },
      "source": [
        "def MCTS(rootstate, itermax, verbose = False):\n",
        "    \"\"\" Conduct a Monte Carlo Tree Search for itermax iterations starting from rootstate.\n",
        "        Return the move policy (probability distribution) from the rootstate.\n",
        "    \"\"\"\n",
        "\n",
        "    rootnode = Node(state = rootstate)\n",
        "    #print(\"Starting MCTS...\")\n",
        "    for i in range(itermax):\n",
        "\n",
        "        node = rootnode\n",
        "        state = deepcopy(rootstate)\n",
        "\n",
        "        is_endgame = True if state.GetResult() == 1.0 else False\n",
        "        \n",
        "        # Select\n",
        "        if not is_endgame:\n",
        "            while node.untriedMoves == [] and node.childNodes != []: # node is fully expanded and non-terminal\n",
        "                node = node.PUCTSelectChild()\n",
        "                state.DoMove(node.move)\n",
        "                \n",
        "        # Expand\n",
        "        if is_endgame == False and node.untriedMoves != []: # if we can expand (i.e. state/node is non-terminal)\n",
        "            m = random.choice(node.untriedMoves) \n",
        "            state.DoMove(m)\n",
        "            node = node.AddChild(m, state) # add child and descend tree\n",
        "\n",
        "        # Backpropagate\n",
        "        leaf_value = state.GetValue(state.playerJustMoved)\n",
        "        while node != None:\n",
        "            # Update nodes with leaf result from POV of node.playerJustMoved\n",
        "            if node.playerJustMoved == 2:\n",
        "                node.Update(-leaf_value)\n",
        "            else:\n",
        "                node.Update(leaf_value)\n",
        "            node = node.parentNode\n",
        "\n",
        "    # Return the policy based on number of visits\n",
        "    moves = [(0, 0), (0, 1), (0, 2), (1, 0), (1, 1), (1, 2), (2, 0), (2, 1), (2, 2)]\n",
        "    policy = []\n",
        "    for m in moves:\n",
        "        found = False\n",
        "        for child in rootnode.childNodes:\n",
        "            if m == child.move:\n",
        "                policy.append(child.visits/rootnode.visits)\n",
        "                found = True\n",
        "                break\n",
        "        if not found: policy.append(0.0)    # move not possible\n",
        "\n",
        "    return policy\n"
      ],
      "execution_count": null,
      "outputs": []
    },
    {
      "cell_type": "code",
      "metadata": {
        "id": "z1EkbDY_02cT"
      },
      "source": [
        "def construct_netboard(board, playerjm):\n",
        "    \"\"\" Make a board representation like they used in AlphaZero \"\"\"\n",
        "\n",
        "    netboard = np.zeros((3, 3, 3), dtype=np.int8)\n",
        "    netboard[2][:] = 1 if playerjm == 1 else 0\n",
        "    netboard[0][board==1] = 1\n",
        "    netboard[1][board==2] = 1\n",
        "\n",
        "    return netboard"
      ],
      "execution_count": null,
      "outputs": []
    },
    {
      "cell_type": "code",
      "metadata": {
        "id": "bh872cMh2k0e"
      },
      "source": [
        "class ReplayBuffer():\n",
        "    def __init__(self, max_size, input_shape):\n",
        "        self.mem_size = max_size\n",
        "        self.mem_cntr = 0\n",
        "\n",
        "        # These data types are what they are because PyTorch likes it like that\n",
        "        self.board_memory = np.zeros((self.mem_size, *input_shape), dtype=np.float32)\n",
        "        self.mindx_memory = np.zeros(self.mem_size, dtype=np.int64)\n",
        "        self.result_memory = np.zeros(self.mem_size, dtype=np.float32)\n",
        "\n",
        "    def store_transition(self, board_state, move_taken, who_won):\n",
        "        index = self.mem_cntr % self.mem_size\n",
        "        \n",
        "        self.board_memory[index] = board_state\n",
        "        self.mindx_memory[index] = move_taken\n",
        "        self.result_memory[index] = who_won\n",
        "        self.mem_cntr += 1\n",
        "    \n",
        "    def sample_buffer(self, batch_size):\n",
        "        # Don't sample emptiness before filling\n",
        "        max_mem = min(self.mem_cntr, self.mem_size)\n",
        "\n",
        "        batch = np.random.choice(max_mem, batch_size, replace=False)\n",
        "        boards = self.board_memory[batch]\n",
        "        move_idxs = self.mindx_memory[batch]\n",
        "        results = self.result_memory[batch]\n",
        "\n",
        "        return (boards, move_idxs, results)"
      ],
      "execution_count": null,
      "outputs": []
    },
    {
      "cell_type": "code",
      "metadata": {
        "id": "pxzcT_cbtlHP"
      },
      "source": [
        "class Network(nn.Module):\n",
        "    def __init__(self, lr=0.01, n_actions=9, input_dims=[3, 3, 3]):\n",
        "        super().__init__()\n",
        "\n",
        "        self.convblock = nn.Sequential(\n",
        "            nn.Conv2d(in_channels=3, out_channels=128, kernel_size=2, padding=1),  \n",
        "            nn.BatchNorm2d(128),\n",
        "            nn.ReLU()\n",
        "            #nn.Flatten()\n",
        "        )\n",
        "\n",
        "        self.resblock = nn.Sequential(\n",
        "            nn.Conv2d(in_channels=128, out_channels=128, kernel_size=3, padding=1),  \n",
        "            nn.BatchNorm2d(128),\n",
        "            nn.ReLU()\n",
        "            #nn.Flatten()\n",
        "        )\n",
        "        # Alphazero has a bunch more layers but\n",
        "        # it seems ridiculous for a 3x3 board...\n",
        "\n",
        "        # self.V = nn.Linear(128 * 2 * 2, 1)\n",
        "        # self.P = nn.Linear(128 * 2 * 2, 9)\n",
        "\n",
        "        self.V = nn.Sequential(\n",
        "            nn.Conv2d(in_channels=128, out_channels=128, kernel_size=2),  \n",
        "            nn.BatchNorm2d(128),\n",
        "            nn.ReLU(),\n",
        "            nn.Flatten(),\n",
        "            nn.Linear(128 * 3 * 3, 1)\n",
        "        )\n",
        "\n",
        "        self.P = nn.Sequential(\n",
        "            nn.Conv2d(in_channels=128, out_channels=128, kernel_size=2),  \n",
        "            nn.BatchNorm2d(128),\n",
        "            nn.ReLU(),\n",
        "            nn.Flatten(),\n",
        "            nn.Linear(128 * 3 * 3, 9)\n",
        "        )\n",
        "\n",
        "        self.optimizer = torch.optim.Adam(self.parameters(), lr=lr)\n",
        "        print(\"Nr of available devices: \", torch.cuda.device_count())\n",
        "        print(\"Name of the zero device: \", torch.cuda.get_device_name(0))\n",
        "        self.device = torch.device('cuda' if torch.cuda.is_available() else 'cpu')\n",
        "        print(\"Assifned device: \", self.device)\n",
        "        #self.nll_loss = nn.NLLLoss()\n",
        "        self.ce_loss = nn.CrossEntropyLoss()\n",
        "        self.mse_loss = nn.MSELoss()\n",
        "        self.to(self.device)\n",
        "\n",
        "    def forward(self, x):\n",
        "\n",
        "        if len(list(x.size())) == 3:\n",
        "            x = x.unsqueeze(0)\n",
        "\n",
        "        x = x.float()\n",
        "        x = self.convblock(x)\n",
        "        for _ in range(5):\n",
        "            x = self.resblock(x)\n",
        "        \n",
        "        value = self.V(x)\n",
        "        policy = self.P(x)\n",
        "\n",
        "        return value, policy\n",
        "\n",
        "    def learn(self, batch):\n",
        "        \n",
        "        netboards, move_idxs, results = batch\n",
        "        netboards = torch.from_numpy(netboards).to(self.device)\n",
        "\n",
        "        \n",
        "\n",
        "        results = torch.from_numpy(results).to(self.device).unsqueeze(1)\n",
        "        \n",
        "        move_idxs = torch.from_numpy(move_idxs).to(self.device)\n",
        "        move_idxs.long()\n",
        "        \n",
        "        # This could/should not be done in a loop, really\n",
        "        self.optimizer.zero_grad()\n",
        "        loss = 0\n",
        "\n",
        "        #import IPython; IPython.embed(); exit()\n",
        "\n",
        "        predicted_vs, predicted_ps = self.forward(netboards)\n",
        "        v_loss = self.mse_loss(predicted_vs, results)\n",
        "        p_loss = self.ce_loss(predicted_ps, move_idxs )\n",
        "\n",
        "        loss = v_loss + p_loss\n",
        "        # for i in range(len(results)):\n",
        "        #     predicted_v, predicted_p = self.forward(netboards[i])\n",
        "        #     #v_loss = (results[i] - predicted_v) ** 2\n",
        "        #     v_loss = self.mse_loss(predicted_v, results[i].unsqueeze(0))\n",
        "        #     p_loss = self.ce_loss(predicted_p.unsqueeze(0), move_idxs[i].unsqueeze(0) )\n",
        "        #     #p_loss = self.nll_loss(torch.log(predicted_p.unsqueeze(0)), move_idxs[i].unsqueeze(0))\n",
        "        #     # input = tensor([[0.2, 0.1, 0.6...]]) (size (1, 9))\n",
        "        #     # target = tensor([4])  index (size (1,)) dtype long\n",
        "\n",
        "        #     loss += v_loss + p_loss\n",
        "        \n",
        "        loss.backward()\n",
        "        self.optimizer.step()\n",
        "\n",
        "    def save_checkpoint(self):\n",
        "        print(\"... saving checkpoint ...\")\n",
        "        torch.save(self.state_dict(), \"checkpt_\" + time.strftime(\"%Y%m%d-%H%M\"))\n",
        "\n",
        "    def load_checkpoint(self, file):\n",
        "        print(\"... loading checkpoint ...\")\n",
        "        self.load_state_dict(torch.load(file)) "
      ],
      "execution_count": null,
      "outputs": []
    },
    {
      "cell_type": "code",
      "metadata": {
        "id": "TTQhI2u22-Yb"
      },
      "source": [
        "def play_game_against_random(wins_against_random, moves_against_random, net):\n",
        "    # Play one episode against an opponent who's making random moves\n",
        "    \n",
        "    net.eval()\n",
        "    quick_state = OXOState(net=net)\n",
        "    player = np.random.choice([1, 2])\n",
        "    win = False\n",
        "    move_cnt = 0\n",
        "\n",
        "    while (len(quick_state.GetMoves()) != 0):   \n",
        "        \n",
        "        if player == 1:\n",
        "            policy = MCTS(rootstate = quick_state, itermax = 200, verbose = False)\n",
        "            #m_idx = np.random.choice(9, p=policy)\n",
        "            m_idx = np.argmax(policy)\n",
        "            moves = [(0, 0), (0, 1), (0, 2), (1, 0), (1, 1), (1, 2), (2, 0), (2, 1), (2, 2)]\n",
        "            m = moves[m_idx]\n",
        "        else:\n",
        "            m = random.choice(quick_state.GetMoves())\n",
        "        \n",
        "        quick_state.DoMove(m)\n",
        "        move_cnt += 1\n",
        "        \n",
        "        if quick_state.GetResult() == 1.0:\n",
        "            win = True\n",
        "            res = 1 if player == 1 else -1\n",
        "            if res == 1:\n",
        "                moves_against_random.append(move_cnt)\n",
        "            wins_against_random.append(res)\n",
        "            break\n",
        "        \n",
        "        player = 3 - player\n",
        "\n",
        "    if not win:\n",
        "        wins_against_random.append(0)"
      ],
      "execution_count": null,
      "outputs": []
    },
    {
      "cell_type": "code",
      "metadata": {
        "id": "RsE_zCgs2ylK"
      },
      "source": [
        "def PlayGames(n_eps=5000, batch_size=32, load_checkpoint=False, checkpoint_path=''):\n",
        "    \"\"\" Play n_eps games between two equal AI players, and\n",
        "        update parameters after each episode.\n",
        "    \"\"\"\n",
        "    replay_buffer = ReplayBuffer(max_size=10000, input_shape=(3, 3, 3))\n",
        "\n",
        "    net = Network()         # learns constantly\n",
        "    target_net = Network()  # generates episodes, copies net every 1k\n",
        "\n",
        "    if load_checkpoint:\n",
        "        net.load_checkpoint(checkpoint_path)\n",
        "\n",
        "    wins_random = []\n",
        "    moves_random = []\n",
        "\n",
        "    for episode in range(n_eps):\n",
        "        \n",
        "        net.eval()\n",
        "\n",
        "        if not (episode + 1) % 100:\n",
        "            print(f\"Episode {episode}\")\n",
        "            print(\"Playing random....\")\n",
        "            play_game_against_random(wins_random, moves_random, net)\n",
        "\n",
        "        if not episode % 500:\n",
        "            plt.plot(wins_random)\n",
        "            plt.plot(moves_random)\n",
        "            plt.show()\n",
        "\n",
        "        if not (episode + 1) % 1500:\n",
        "            net.save_checkpoint()\n",
        "\n",
        "        state = OXOState(net=target_net)\n",
        "        netboard = construct_netboard(state.board, state.playerJustMoved)\n",
        "\n",
        "        netboard_memory = [netboard]\n",
        "        midx_memory = []\n",
        "\n",
        "        while(state.GetResult() == 10):\n",
        "            \n",
        "            policy = MCTS(rootstate = state, itermax = 50, verbose = False)\n",
        "\n",
        "            m_idx = np.random.choice(9, p=policy)\n",
        "            midx_memory.append(m_idx)\n",
        "            moves = [(0, 0), (0, 1), (0, 2), (1, 0), (1, 1), (1, 2), (2, 0), (2, 1), (2, 2)]\n",
        "            m = moves[m_idx]\n",
        "            state.DoMove(m)\n",
        "\n",
        "            netboard = construct_netboard(state.board, state.playerJustMoved)\n",
        "            netboard_memory.append(netboard)\n",
        "\n",
        "        #who_won = 0 if state.GetResult() == 0.0 else state.playerJustMoved\n",
        "        if state.GetResult() == 0.0:        who_won = 0\n",
        "        elif state.playerJustMoved == 2:    who_won = -1\n",
        "        else:                               who_won = 1\n",
        "\n",
        "        # I have to retroactively store episode\n",
        "        # in buffer here because only now do I know who won\n",
        "        for i in range(len(netboard_memory)):\n",
        "            if i == len(netboard_memory) - 1:\n",
        "                midx = 0        # what's a good solution?\n",
        "            else: \n",
        "                midx = midx_memory[i]\n",
        "\n",
        "            netboard = netboard_memory[i]\n",
        "            replay_buffer.store_transition(netboard, midx, who_won)\n",
        "\n",
        "\n",
        "        if replay_buffer.mem_cntr > batch_size:\n",
        "            batch = replay_buffer.sample_buffer(batch_size)\n",
        "            net.train()\n",
        "            net.learn(batch)\n",
        "\n",
        "        if not episode % 1000:\n",
        "            print(\"Updating target net and wiping memory...\")\n",
        "            target_net.load_state_dict(net.state_dict())\n",
        "            replay_buffer = ReplayBuffer(max_size=10000, input_shape=(3, 3, 3))\n",
        "\n",
        "    net.save_checkpoint()"
      ],
      "execution_count": null,
      "outputs": []
    },
    {
      "cell_type": "code",
      "metadata": {
        "id": "26OqYKE62p6-"
      },
      "source": [
        "def PlayGameWithHuman(checkpoint_path):\n",
        "\n",
        "    #replay_buffer = ReplayBuffer(max_size=1000, input_shape=(3, 3, 3))\n",
        "    net = Network()\n",
        "    net.load_checkpoint(checkpoint_path)\n",
        "    state = OXOState(net=net)\n",
        "    \n",
        "    while (state.GetResult() == 10):\n",
        "\n",
        "        policy = MCTS(rootstate = state, itermax = 600, verbose = False)\n",
        "        print(\"policy: \", policy)\n",
        "        #m_idx = np.random.choice(9, p=policy)\n",
        "        m_idx = np.argmax(policy)\n",
        "        moves = [(0, 0), (0, 1), (0, 2), (1, 0), (1, 1), (1, 2), (2, 0), (2, 1), (2, 2)]\n",
        "        m = moves[m_idx]\n",
        "        print(\"Chosen Move: \", m, \"\\n\")\n",
        "        state.DoMove(m)\n",
        "\n",
        "        print(\"Real board:\")\n",
        "        print(state.board)\n",
        "\n",
        "        if state.GetResult() == 1.0:\n",
        "            print(state.playerJustMoved, \"won!\")\n",
        "            break\n",
        "        elif state.GetResult() == 0.0:\n",
        "            print(\"draw\")\n",
        "            break\n",
        "\n",
        "        print(\"Pick a move\")\n",
        "        human_m = tuple(int(x.strip()) for x in input().split(','))\n",
        "        state.DoMove(human_m)\n",
        "\n",
        "        if state.GetResult() == 1.0:\n",
        "            print(state.playerJustMoved, \"won!\")\n",
        "            break\n",
        "        elif state.GetResult() == 0.0:\n",
        "            print(\"draw\")\n",
        "            break"
      ],
      "execution_count": null,
      "outputs": []
    },
    {
      "cell_type": "code",
      "metadata": {
        "id": "xx2lWO5YuFDg",
        "colab": {
          "base_uri": "https://localhost:8080/",
          "height": 1000
        },
        "outputId": "c97c87b5-fd54-420c-dc04-99757b725153"
      },
      "source": [
        "%matplotlib inline\n",
        "\n",
        "n_eps = 10000\n",
        "\n",
        "PlayGames(n_eps, batch_size=32)\n",
        "#PlayGameWithHuman()"
      ],
      "execution_count": null,
      "outputs": [
        {
          "output_type": "stream",
          "text": [
            "Nr of available devices:  1\n",
            "Name of the zero device:  Tesla T4\n",
            "Assifned device:  cuda\n",
            "Nr of available devices:  1\n",
            "Name of the zero device:  Tesla T4\n",
            "Assifned device:  cuda\n"
          ],
          "name": "stdout"
        },
        {
          "output_type": "display_data",
          "data": {
            "image/png": "[encoded data removed]",
            "text/plain": [
              "<Figure size 432x288 with 1 Axes>"
            ]
          },
          "metadata": {
            "tags": [],
            "needs_background": "light"
          }
        },
        {
          "output_type": "stream",
          "text": [
            "Updating target net and wiping memory...\n",
            "Episode 99\n",
            "Playing random....\n",
            "Episode 199\n",
            "Playing random....\n",
            "Episode 299\n",
            "Playing random....\n",
            "Episode 399\n",
            "Playing random....\n",
            "Episode 499\n",
            "Playing random....\n"
          ],
          "name": "stdout"
        },
        {
          "output_type": "display_data",
          "data": {
            "image/png": "[encoded data removed]",
            "text/plain": [
              "<Figure size 432x288 with 1 Axes>"
            ]
          },
          "metadata": {
            "tags": [],
            "needs_background": "light"
          }
        },
        {
          "output_type": "stream",
          "text": [
            "Episode 599\n",
            "Playing random....\n",
            "Episode 699\n",
            "Playing random....\n",
            "Episode 799\n",
            "Playing random....\n",
            "Episode 899\n",
            "Playing random....\n",
            "Episode 999\n",
            "Playing random....\n"
          ],
          "name": "stdout"
        },
        {
          "output_type": "display_data",
          "data": {
            "image/png": "[encoded data removed]",
            "text/plain": [
              "<Figure size 432x288 with 1 Axes>"
            ]
          },
          "metadata": {
            "tags": [],
            "needs_background": "light"
          }
        },
        {
          "output_type": "stream",
          "text": [
            "Updating target net and wiping memory...\n",
            "Episode 1099\n",
            "Playing random....\n",
            "Episode 1199\n",
            "Playing random....\n",
            "Episode 1299\n",
            "Playing random....\n",
            "Episode 1399\n",
            "Playing random....\n",
            "Episode 1499\n",
            "Playing random....\n",
            "... saving checkpoint ...\n"
          ],
          "name": "stdout"
        },
        {
          "output_type": "display_data",
          "data": {
            "image/png": "[encoded data removed]",
            "text/plain": [
              "<Figure size 432x288 with 1 Axes>"
            ]
          },
          "metadata": {
            "tags": [],
            "needs_background": "light"
          }
        },
        {
          "output_type": "stream",
          "text": [
            "Episode 1599\n",
            "Playing random....\n",
            "Episode 1699\n",
            "Playing random....\n",
            "Episode 1799\n",
            "Playing random....\n",
            "Episode 1899\n",
            "Playing random....\n",
            "Episode 1999\n",
            "Playing random....\n"
          ],
          "name": "stdout"
        },
        {
          "output_type": "display_data",
          "data": {
            "image/png": "[encoded data removed]",
            "text/plain": [
              "<Figure size 432x288 with 1 Axes>"
            ]
          },
          "metadata": {
            "tags": [],
            "needs_background": "light"
          }
        },
        {
          "output_type": "stream",
          "text": [
            "Updating target net and wiping memory...\n",
            "Episode 2099\n",
            "Playing random....\n",
            "Episode 2199\n",
            "Playing random....\n",
            "Episode 2299\n",
            "Playing random....\n",
            "Episode 2399\n",
            "Playing random....\n",
            "Episode 2499\n",
            "Playing random....\n"
          ],
          "name": "stdout"
        },
        {
          "output_type": "display_data",
          "data": {
            "image/png": "[encoded data removed]",
            "text/plain": [
              "<Figure size 432x288 with 1 Axes>"
            ]
          },
          "metadata": {
            "tags": [],
            "needs_background": "light"
          }
        },
        {
          "output_type": "stream",
          "text": [
            "Episode 2599\n",
            "Playing random....\n",
            "Episode 2699\n",
            "Playing random....\n",
            "Episode 2799\n",
            "Playing random....\n",
            "Episode 2899\n",
            "Playing random....\n",
            "Episode 2999\n",
            "Playing random....\n",
            "... saving checkpoint ...\n"
          ],
          "name": "stdout"
        },
        {
          "output_type": "display_data",
          "data": {
            "image/png": "[encoded data removed]",
            "text/plain": [
              "<Figure size 432x288 with 1 Axes>"
            ]
          },
          "metadata": {
            "tags": [],
            "needs_background": "light"
          }
        },
        {
          "output_type": "stream",
          "text": [
            "Updating target net and wiping memory...\n",
            "Episode 3099\n",
            "Playing random....\n",
            "Episode 3199\n",
            "Playing random....\n",
            "Episode 3299\n",
            "Playing random....\n",
            "Episode 3399\n",
            "Playing random....\n",
            "Episode 3499\n",
            "Playing random....\n"
          ],
          "name": "stdout"
        },
        {
          "output_type": "display_data",
          "data": {
            "image/png": "[encoded data removed]",
            "text/plain": [
              "<Figure size 432x288 with 1 Axes>"
            ]
          },
          "metadata": {
            "tags": [],
            "needs_background": "light"
          }
        },
        {
          "output_type": "stream",
          "text": [
            "Episode 3599\n",
            "Playing random....\n",
            "Episode 3699\n",
            "Playing random....\n",
            "Episode 3799\n",
            "Playing random....\n",
            "Episode 3899\n",
            "Playing random....\n",
            "Episode 3999\n",
            "Playing random....\n"
          ],
          "name": "stdout"
        },
        {
          "output_type": "display_data",
          "data": {
            "image/png": "[encoded data removed]",
            "text/plain": [
              "<Figure size 432x288 with 1 Axes>"
            ]
          },
          "metadata": {
            "tags": [],
            "needs_background": "light"
          }
        },
        {
          "output_type": "stream",
          "text": [
            "Updating target net and wiping memory...\n",
            "Episode 4099\n",
            "Playing random....\n",
            "Episode 4199\n",
            "Playing random....\n",
            "Episode 4299\n",
            "Playing random....\n",
            "Episode 4399\n",
            "Playing random....\n",
            "Episode 4499\n",
            "Playing random....\n",
            "... saving checkpoint ...\n"
          ],
          "name": "stdout"
        },
        {
          "output_type": "display_data",
          "data": {
            "image/png": "[encoded data removed]",
            "text/plain": [
              "<Figure size 432x288 with 1 Axes>"
            ]
          },
          "metadata": {
            "tags": [],
            "needs_background": "light"
          }
        },
        {
          "output_type": "stream",
          "text": [
            "Episode 4599\n",
            "Playing random....\n",
            "Episode 4699\n",
            "Playing random....\n"
          ],
          "name": "stdout"
        }
      ]
    },
    {
      "cell_type": "code",
      "metadata": {
        "id": "yCHQ8_XkrDGy"
      },
      "source": [
        ""
      ],
      "execution_count": null,
      "outputs": []
    }
  ]
}